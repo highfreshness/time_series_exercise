{
  "cells": [
    {
      "attachments": {},
      "cell_type": "markdown",
      "metadata": {
        "id": "3eBe6DjmJ09O"
      },
      "source": [
        "## 진행 계획\n",
        "1. 데이터 확인 및 전처리\n",
        "2. 모델 선정 및 학습\n",
        "3. 모델 성능 및 속도 확인"
      ]
    },
    {
      "attachments": {},
      "cell_type": "markdown",
      "metadata": {
        "id": "xLjaM5O9PFBl"
      },
      "source": [
        "### 1. 데이터 확인"
      ]
    },
    {
      "cell_type": "code",
      "execution_count": null,
      "metadata": {
        "id": "wrYX53TLwiOY"
      },
      "outputs": [],
      "source": [
        "import glob\n",
        "import numpy as np\n",
        "import pandas as pd\n",
        "import matplotlib.pyplot as plt\n",
        "import xml.etree.ElementTree as ET\n",
        "\n",
        "from tqdm import tqdm\n",
        "from pathlib import Path\n",
        "\n",
        "from sklearn.preprocessing import MinMaxScaler, OneHotEncoder\n",
        "from sklearn.metrics import mean_squared_error\n",
        "from sklearn.model_selection import train_test_split\n",
        "\n",
        "from keras.models import Sequential, load_model\n",
        "from keras.layers import Dense, LSTM, BatchNormalization\n",
        "from keras.callbacks import EarlyStopping, ModelCheckpoint"
      ]
    },
    {
      "cell_type": "code",
      "execution_count": null,
      "metadata": {
        "colab": {
          "base_uri": "https://localhost:8080/"
        },
        "id": "3osixOMLJbxt",
        "outputId": "0bf25fb8-6f02-45d9-fddc-fa17887c5471"
      },
      "outputs": [
        {
          "name": "stdout",
          "output_type": "stream",
          "text": [
            "Mounted at /gdrive\n"
          ]
        }
      ],
      "source": [
        "# 구글 드라이브 연결\n",
        "from google.colab import drive\n",
        "drive.mount('/gdrive')"
      ]
    },
    {
      "cell_type": "code",
      "execution_count": null,
      "metadata": {
        "id": "pZMAIn9cPH77"
      },
      "outputs": [],
      "source": [
        "'''\n",
        "처음 Train_Set.zip을 압축해제 하기 위한 폴더 생성과 명령어이므로 처음 실행 시 사용 \n",
        "'''\n",
        "Path(\"/gdrive/MyDrive/임시/data/Train\").mkdir(parents=True, exist_ok=True) # 상위 Path가 없으면 새로 생성, 폴더가 이미 있는 경우에는 무시\n",
        "!unzip -uq \"/gdrive/MyDrive/임시/data/Train_Set.zip\" -d \"/gdrive/MyDrive/임시/data/Train\" # 위에서 생성한 폴더에 Train 데이터가 있는 zip파일의 압축을 해제 (-u : 파일을 덮어쓰지 않고 대체, -q : 압축 해제 중 상세정보 미출력, -d : 지정 디렉토리에 압축 해제)"
      ]
    },
    {
      "cell_type": "code",
      "execution_count": null,
      "metadata": {
        "colab": {
          "base_uri": "https://localhost:8080/"
        },
        "id": "tb7WpI2RSFXP",
        "outputId": "3e534258-4011-448f-c062-c09fa1ee18da"
      },
      "outputs": [
        {
          "data": {
            "text/plain": [
              "33245"
            ]
          },
          "execution_count": 22,
          "metadata": {},
          "output_type": "execute_result"
        }
      ],
      "source": [
        "# Train 데이터셋 개수 확인\n",
        "files = list(glob.glob('/gdrive/MyDrive/임시/data/Train/*.xml')) # Train 데이터의 압축을 해제한 폴더에서 확장자가 xml인 파일을 불러와서 리스트로 변환\n",
        "len(files) # 리스트에 xml파일이 몇개나 있는지 확인 (= 33245개의 유저별 주행 기록 확인)"
      ]
    },
    {
      "attachments": {},
      "cell_type": "markdown",
      "metadata": {
        "id": "DEhgEABJawXP"
      },
      "source": [
        "#### Sample train data 확인"
      ]
    },
    {
      "cell_type": "code",
      "execution_count": null,
      "metadata": {
        "id": "eZs2nimCWafS"
      },
      "outputs": [],
      "source": [
        "# Train 데이터 샘플 확인\n",
        "df_sample = pd.read_xml(files[0]) # xml파일 중 하나를 DataFrame으로 변환"
      ]
    },
    {
      "cell_type": "code",
      "execution_count": null,
      "metadata": {
        "id": "32eO3k9HO-UC"
      },
      "outputs": [],
      "source": [
        "df_sample.head()"
      ]
    },
    {
      "cell_type": "code",
      "execution_count": null,
      "metadata": {
        "id": "ua4gPDzcYCG3"
      },
      "outputs": [],
      "source": [
        "df_sample.info() # 컬럼별 타입과 Null 값 확인"
      ]
    },
    {
      "cell_type": "code",
      "execution_count": null,
      "metadata": {
        "id": "Kj2OuFEAYEf8"
      },
      "outputs": [],
      "source": [
        "df_sample.describe() # 샘플 데이터프레임의 데이터 요약 확인(Outlier 확인)"
      ]
    },
    {
      "cell_type": "code",
      "execution_count": null,
      "metadata": {
        "id": "tSEvlZqlYcmD"
      },
      "outputs": [],
      "source": [
        "df_sample.corr() # 피쳐별 관계 확인"
      ]
    },
    {
      "cell_type": "code",
      "execution_count": null,
      "metadata": {
        "colab": {
          "base_uri": "https://localhost:8080/"
        },
        "id": "RT4Yw6SbYvfG",
        "outputId": "3b5dc4c9-6efe-4399-e3e6-d71908375a33"
      },
      "outputs": [
        {
          "data": {
            "text/plain": [
              "0    773\n",
              "1    301\n",
              "4     33\n",
              "5     15\n",
              "3     12\n",
              "Name: boost, dtype: int64"
            ]
          },
          "execution_count": 13,
          "metadata": {},
          "output_type": "execute_result"
        }
      ],
      "source": [
        "df_sample['b'].value_counts()"
      ]
    },
    {
      "cell_type": "code",
      "execution_count": null,
      "metadata": {
        "id": "ByCdMZvUVbnO"
      },
      "outputs": [],
      "source": [
        "df_sample[df_sample['b']==4].head(10) "
      ]
    },
    {
      "cell_type": "code",
      "execution_count": null,
      "metadata": {
        "id": "eOJXQXZYheui"
      },
      "outputs": [],
      "source": [
        "df_sample.tail(15) "
      ]
    },
    {
      "cell_type": "code",
      "execution_count": null,
      "metadata": {
        "colab": {
          "base_uri": "https://localhost:8080/"
        },
        "id": "mVeVlFr5icfJ",
        "outputId": "dd5fe778-b0bc-44b2-ba26-f8661243559a"
      },
      "outputs": [
        {
          "name": "stdout",
          "output_type": "stream",
          "text": [
            "113.3\n"
          ]
        }
      ],
      "source": [
        "print(ET.parse(files[0]).getroot().attrib['rT']) # xml 파일에 있는 Label 데이터를 가져오기 위해 사용"
      ]
    },
    {
      "attachments": {},
      "cell_type": "markdown",
      "metadata": {
        "id": "aUP5ewvKV8nd"
      },
      "source": [
        "샘플데이터를 통해 알게된 점\n",
        "1. 데이터의 타입은 모두 숫자(float, int)로 구성되어있다.\n",
        "2. feature별 상관관계"
      ]
    },
    {
      "attachments": {},
      "cell_type": "markdown",
      "metadata": {
        "id": "UouYwrw8dH_b"
      },
      "source": [
        "#### 전체 Train data 병합 및 저장"
      ]
    },
    {
      "cell_type": "code",
      "execution_count": null,
      "metadata": {
        "id": "_sKB1PArZesZ"
      },
      "outputs": [],
      "source": [
        "'''\n",
        "Train Data의 병합 시 시간이 오래걸리기 때문에 시간이나 메모리를 아낄 수 있는 방법이 있는지 검색 후 2가지 방법을 시도\n",
        "1. xml로 만든 데이터프레임을 for문을 통해 하나씩 concat\n",
        "2. xml로 만든 데이터프레임을 for문을 통해 list에 append를 통해 모아 한번에 concat\n",
        "2번 방법이 메모리를 효율적으로 아낄 수 있다고 해 테스트 해봤으나 코랩의 상태에 따라 실행시간이 달라져 정확한 비교는 힘들었으나 체감되는 시간은 비슷했음\n",
        "'''\n",
        "max = 0\n",
        "# xml을 하나씩 읽어 concat하는 것보다 list를 통해 df를 입력받은 뒤 한번에 concat을 하는 것이 속도가 빠르고 메모리를 아낄 수 있기 때문에 아래와 같이 코드를 작성\n",
        "list_of_df = []\n",
        "\n",
        "for file in tqdm(files): \n",
        "    temp = pd.read_xml(file)\n",
        "\n",
        "df = pd.concat(list_of_df)\n",
        "\n",
        "row_length = [len(df) for df in list_of_df] # xml 별 최대 행 길이 확인(최대 주행기록)\n",
        "print(max(row_length))"
      ]
    },
    {
      "cell_type": "code",
      "execution_count": null,
      "metadata": {
        "id": "j4MePP-YBGQM"
      },
      "outputs": [],
      "source": [
        "df = pd.read_csv(\"/gdrive/MyDrive/임시/data/total_data.csv\")\n",
        "df.head()"
      ]
    },
    {
      "cell_type": "code",
      "execution_count": null,
      "metadata": {
        "id": "XOwN0AK1bgLP"
      },
      "outputs": [],
      "source": [
        "'''\n",
        "하나의 xml을 데이터프레임으로 변경했을 때와 다르게 info()를 실행해도 Null Count가 되지 않았아 isnull()과 sum()을 통해 결측치 확인\n",
        "'''\n",
        "print(df.info()) # 모든 유저 데이터가 모인 DataFrame에서 null값 확인 (=39,500,589 row)\n",
        "print()\n",
        "print(df.isnull().sum())"
      ]
    },
    {
      "cell_type": "code",
      "execution_count": null,
      "metadata": {
        "id": "LPmUCunp5AXB"
      },
      "outputs": [],
      "source": [
        "'''\n",
        "데이터 병합 작업의 시간이 오래 걸리기 때문에 합쳐진 데이터프레임을 csv로 저장 \n",
        "'''\n",
        "df.to_csv(\"/gdrive/MyDrive/임시/data/total_data.csv\", encoding=\"utf-8-sig\", header=True, index=False) #index는 저장하지 않고 header(컬럼)은 저장"
      ]
    },
    {
      "attachments": {},
      "cell_type": "markdown",
      "metadata": {
        "id": "3AzmDm2p-e_n"
      },
      "source": [
        "#### 데이터 가설 확인"
      ]
    },
    {
      "cell_type": "code",
      "execution_count": null,
      "metadata": {
        "id": "lQXqW0En3e1C"
      },
      "outputs": [],
      "source": [
        "b_check = df[df['b']==4] \n",
        "print(b_check[['x', 'y']].value_counts()) \n",
        "print()\n",
        "print(b_check[['x']].value_counts()) "
      ]
    },
    {
      "attachments": {},
      "cell_type": "markdown",
      "metadata": {
        "id": "BOzO2rIwQhDt"
      },
      "source": [
        "### 1-2 데이터 전처리"
      ]
    },
    {
      "cell_type": "code",
      "execution_count": null,
      "metadata": {
        "id": "bNLZFa8Rp0gO"
      },
      "outputs": [],
      "source": [
        "def head_df_extractor(df):\n",
        "    head_df = df.head(1).iloc[0,1:3]                                            # 데이터프레임 첫 행의 Series\n",
        "    x, y = head_df['x'], head_df['y']                                     # Series의 x, y를 저장\n",
        "    index = df[(df['x'] != df['x'].shift()) | (df['y'] != df['y'].shift())].iloc[1].name\n",
        "    df = df[index:]\n",
        "    df.reset_index(drop=True, inplace=True)                                     # 데이터를 잘라내며 어긋난 인덱스가 생기기 때문에 인덱스를 초기화\n",
        "    return df"
      ]
    },
    {
      "cell_type": "code",
      "execution_count": null,
      "metadata": {
        "id": "TK_JXERFU2WI"
      },
      "outputs": [],
      "source": [
        "def tail_df_extractor(df):\n",
        "    tail_df = df.tail(1).iloc[0,1:3]\n",
        "    tail_x, tail_y = tail_df['x'], tail_df['y']\n",
        "    tail_index = df[(df['x'] != df['x'].shift()) | (df['y'] != df['y'].shift())].iloc[-1].name\n",
        "    df = df[:tail_index]\n",
        "    df.reset_index(drop=True, inplace=True)\n",
        "    return df"
      ]
    },
    {
      "cell_type": "code",
      "execution_count": null,
      "metadata": {
        "id": "WCKHFXySGFRG"
      },
      "outputs": [],
      "source": [
        "def random_sample_extractor(df, random_seed):                                   \n",
        "    label = df.iloc[-1]['t']                                                 # 샘플 추출 전 label 추출\n",
        "    df_sample = df.copy(deep=True)                                              # 데이터프레임 복사 시 원본에 영향이 가지 않도록 딥 카피\n",
        "    df_sample = df_sample[:-300]                                                # 데이터프레임 행의 끝부분 300개를 잘라낸 샘플\n",
        "    extract_index = list(df_sample.sample(random_state=random_seed).index)[0]   # 샘플 데이터 프레임의 index를 추출 \n",
        "    df = df.iloc[extract_index:extract_index+300]                               # 샘플 인덱스를 기준으로 300개 행 추출\n",
        "    return df, label"
      ]
    },
    {
      "cell_type": "code",
      "execution_count": null,
      "metadata": {
        "id": "nzCyRz9-IGXL"
      },
      "outputs": [],
      "source": [
        "random_seed = 42\n",
        "list_of_df_x = []\n",
        "list_of_df_y = []\n",
        "\n",
        "for idx, file in enumerate(tqdm(files)): \n",
        "    temp = pd.read_xml(file)                               # xml to Dataframe\n",
        "    df = head_df_extractor(temp)                           \n",
        "    df = tail_df_extractor(df)                             \n",
        "    df, label = random_sample_extractor(df, random_seed)   \n",
        "    if (len(df) < 300):                 \n",
        "        print(f\"{idx} 번째에서 데이터 개수가 미달한 데이터가 있습니다. :{len(df)}, 파일 이름 : {file}\")\n",
        "        continue\n",
        "    elif (df[\"b\"]==4).any():\n",
        "        print(f\"{idx} 번째에서 4번이 확인되어 제외합니다. 파일 이름 : {file}\")\n",
        "        continue\n",
        "    list_of_df_x.append(df)\n",
        "    list_of_df_y.append(label)\n",
        "\n",
        "df_x = pd.concat(list_of_df_x)\n",
        "df_y = pd.DataFrame(list_of_df_y, columns=['label'])"
      ]
    },
    {
      "cell_type": "code",
      "execution_count": null,
      "metadata": {
        "id": "lZ6XbgxDIh22"
      },
      "outputs": [],
      "source": [
        "\"\"\"\n",
        "최종적으로 만들어진 데이터 셋을 csv로 저장\n",
        "\"\"\"                                                           \n",
        "df_x.to_csv(\"/gdrive/MyDrive/임시/data/x.csv\", encoding=\"utf-8-sig\", header=True, index=False) # header(컬럼)은 저장, index는 저장하지 않는다.\n",
        "df_y.to_csv(\"/gdrive/MyDrive/임시/data/y.csv\", encoding=\"utf-8-sig\", header=True, index=False)"
      ]
    },
    {
      "attachments": {},
      "cell_type": "markdown",
      "metadata": {
        "id": "YwQJIdc51kQY"
      },
      "source": [
        "### 2. 모델 선정 및 훈련\n",
        "\n",
        "구해야 할 최종 도착 시간이 30초간의 연속된 주행기록 예측하는 시계열 회귀 예측 문제로 인식하고 시계열 예측 모델 중 가장 접하기 쉬웠던 LSTM과 LSTM에서 조금 더 가볍게 만들어진 GRU 2가지를 모델로 선정하고 LSTM과 GRU의 성능이나 시간이 어느정도 차이가 있을지 테스트 해보기로 했다."
      ]
    },
    {
      "attachments": {},
      "cell_type": "markdown",
      "metadata": {
        "id": "pLHRFviG_ye4"
      },
      "source": [
        "#### LSTM (Long-Short Term Memory) \n",
        "장/단기 기억을 가능하게 만들어진 신경망 구조로 RNN이 이전 단계에서 얻은 정보를 지속하며 학습할 수 있도록 만들어졌지만 학습이 계속될수록 기울기 소실이나 기울기 폭발이 생길 수 있어 학습이 되지 않는 문제점을 가지고 있었는데 이 문제를 해결하기 위해 게이트를 통해 이전 상태를 조절하는 기능을 만들어 RNN의 단점을 해결한 모델이다.\n",
        "\n",
        "<center><img src =\"https://drive.google.com/uc?id=13f5sWceNCWoZne6wlM6tPno7O-cJODew\" height=300 width=500></center>\n",
        "사진 출처 : <a href=\"https://velog.io/@yuns_u/LSTMLong-Short-Term-Memory%EA%B3%BC-GRUgated-Recurrent-Unit\">링크</a>\n",
        "\n",
        "* Forget Gate\n",
        "> Hidden state와 X를 Sigmoid를 통해 Cell State에 영향 여부를 결정한다. (0 - 소실, 1- 유지)\n",
        "* Input Gate\n",
        "> Hidden State와 X를 Sigmoid를 이용해 업데이트 값을 결정하고 Tanh를 이용해 새로운 벡터로 바꿔 Cell state에 더해준다. \n",
        "(Sigmoid를 통과하며 0이된 값들은 Tanh를 통과한 값에 곱해지며 \n",
        "업데이트가 되지 않는다.(어떤 수에 0을 곱해도 0이기 때문)\n",
        "* Cell State\n",
        "> 상태값을 보존하고 있는 layer로 게이트의 값에 따라 정보를 유지하고 버릴 것인지 정해지며 이런 정보를 바탕으로 출력에도 영향을 끼치게 된다.\n",
        "* Output Gate\n",
        "> Cell State의 값을 Tanh를 이용해 -1과 1사이의 출력을 생성하고 Sigmoid를 통해 나온 0과 1중 하나의 값을 다음 신경망의 Hidden State와 출력으로 내보낸다."
      ]
    },
    {
      "attachments": {},
      "cell_type": "markdown",
      "metadata": {
        "id": "MtaeA45sOvKJ"
      },
      "source": [
        "#### GRU (Gate Recurrent Unit)\n",
        "LSTM의 간소화된 버전으로 Cell State를 없앴으며\n",
        "\n",
        "LSTM에 비해 파라미터가 적어 훈련 시간 절약 되는 장점이 있다.\n",
        "\n",
        "성능적으로는 Task별로 차이가 있어 LSTM과 GRU 어떤 것이 좋다고는 할 수 없다.\n",
        "\n",
        "<center><img src =\"https://drive.google.com/uc?id=1RazpVgrWFiCUyhoj2vlA0iby1ebmIYYf\" height=300 width=500></center>\n",
        "사진 출처 : <a href=\"https://blog.naver.com/PostView.naver?blogId=sooftware&logNo=221783612034&redirect=Dlog&widgetTypeCall=true&directAccess=false\">링크</a>\n"
      ]
    },
    {
      "attachments": {},
      "cell_type": "markdown",
      "metadata": {
        "id": "jfpFZdKwVtm4"
      },
      "source": [
        "#### 모델 세팅 및 훈련\n",
        "\n",
        "데이터셋을 train, valid로 분리"
      ]
    },
    {
      "cell_type": "code",
      "execution_count": null,
      "metadata": {
        "colab": {
          "base_uri": "https://localhost:8080/"
        },
        "id": "8L8NOwsO4ak0",
        "outputId": "334c1b57-5129-4afd-8f74-318e4b75de04"
      },
      "outputs": [
        {
          "name": "stdout",
          "output_type": "stream",
          "text": [
            "(9972600, 5)\n",
            "(33242, 1)\n"
          ]
        }
      ],
      "source": [
        "x = pd.read_csv(\"/gdrive/MyDrive/임시/data/x.csv\")                              \n",
        "y = pd.read_csv(\"/gdrive/MyDrive/임시/data/y.csv\")\n",
        "\n",
        "print(x.shape) \n",
        "print(y.shape)"
      ]
    },
    {
      "cell_type": "code",
      "execution_count": null,
      "metadata": {
        "colab": {
          "base_uri": "https://localhost:8080/"
        },
        "id": "eKld-HlAyYGo",
        "outputId": "f1611893-4b7d-4666-cd95-d7e1c27309bf"
      },
      "outputs": [
        {
          "name": "stdout",
          "output_type": "stream",
          "text": [
            "(9972600, 4)\n",
            "(33242, 1)\n"
          ]
        }
      ],
      "source": [
        "x.drop(\"t\", axis=1, inplace=True) # x에서 t 컬럼 삭제\n",
        "print(x.shape)\n",
        "print(y.shape)"
      ]
    },
    {
      "cell_type": "code",
      "execution_count": null,
      "metadata": {
        "colab": {
          "base_uri": "https://localhost:8080/"
        },
        "id": "2dkx5GnL58-s",
        "outputId": "028b1237-f186-4a64-96b9-3bd2db9e449a"
      },
      "outputs": [
        {
          "name": "stdout",
          "output_type": "stream",
          "text": [
            "(9972000, 4)\n",
            "(33240, 1)\n"
          ]
        }
      ],
      "source": [
        "\"\"\"\n",
        "batch_size 33242를 8:2로 나누었을 때 0으로 떨어지지 않아 33240개로 조정 x,y의 샘플을 각각 600개, 2개씩을 제외해 남는 데이터가 없도록 만든다.\n",
        "\"\"\"\n",
        "x = x.iloc[:-600]\n",
        "y = y.iloc[:-2]\n",
        "print(x.shape)\n",
        "print(y.shape)"
      ]
    },
    {
      "cell_type": "code",
      "execution_count": null,
      "metadata": {
        "id": "e0JfWw1v52Ay"
      },
      "outputs": [],
      "source": [
        "from sklearn.model_selection import train_test_split\n",
        "from sklearn.compose import ColumnTransformer\n",
        "from sklearn.pipeline import Pipeline"
      ]
    },
    {
      "cell_type": "code",
      "execution_count": null,
      "metadata": {
        "id": "-zaXTozt6PkT"
      },
      "outputs": [],
      "source": [
        "numeric_features = [\"x\", \"y\"] # 연속형 변수 정의\n",
        "numeric_transformer = MinMaxScaler() # 연속형 변수 스케일러 정의\n",
        "\n",
        "categorical_features = [\"b\", \"d\"] # 카테고리형 변수 정의\n",
        "categorical_transformer = OneHotEncoder(categories='auto') # 카테고리형 변수 스케일러 정의\n",
        "\n",
        "preprocessor = ColumnTransformer(\n",
        "    transformers=[ \n",
        "        ('num', numeric_transformer, numeric_features),\n",
        "        ('cat', categorical_transformer, categorical_features)\n",
        "        ])\n",
        "\n",
        "preprocessor_pipe = Pipeline(steps=[('preprocessor', preprocessor)])"
      ]
    },
    {
      "cell_type": "code",
      "execution_count": null,
      "metadata": {
        "id": "6TYDvHjp7BJ6"
      },
      "outputs": [],
      "source": [
        "# 연속형, 카테고리형 데이터 스케일링\n",
        "preprocessor_pipe.fit(x) # x에 맞춰 변수 정의(이후 변경된 z를 fit할 경우 z를 기준으로 다시 변경되니 주의)\n",
        "x_train_transformed = preprocessor_pipe.transform(x) # fit된 파이프라인에 맞게 x를 변형"
      ]
    },
    {
      "cell_type": "code",
      "execution_count": null,
      "metadata": {
        "colab": {
          "base_uri": "https://localhost:8080/"
        },
        "id": "u6HT4D_Oyp55",
        "outputId": "54f23e04-0f24-4e91-a37c-3a7db268515a"
      },
      "outputs": [
        {
          "name": "stdout",
          "output_type": "stream",
          "text": [
            "<class 'numpy.ndarray'>\n",
            "(9972000, 8)\n"
          ]
        }
      ],
      "source": [
        "print(type(x_train_transformed))\n",
        "print(x_train_transformed.shape)"
      ]
    },
    {
      "cell_type": "code",
      "execution_count": null,
      "metadata": {
        "colab": {
          "base_uri": "https://localhost:8080/"
        },
        "id": "YWA9C_2BWwu4",
        "outputId": "395771d6-0fbc-4f5b-e0b3-a78fa095511f"
      },
      "outputs": [
        {
          "name": "stdout",
          "output_type": "stream",
          "text": [
            "x_train.shape : (7977600, 8)\n",
            "y_train.shape : (26592, 1)\n",
            "x_valid.shape : (1994400, 8)\n",
            "y_valid.shape : (6648, 1)\n"
          ]
        }
      ],
      "source": [
        "# train / validation set 8:2로 분리\n",
        "train_size = int(len(x_train_transformed) * 0.8) \n",
        "label_size = int((train_size / 300))\n",
        "\n",
        "x_train = x_train_transformed[:train_size]\n",
        "x_valid = x_train_transformed[train_size:]\n",
        "\n",
        "y_train = y.iloc[:label_size, :].to_numpy()\n",
        "y_valid = y.iloc[label_size:, :].to_numpy()\n",
        "\n",
        "# 스케일된 데이터의 shape 확인\n",
        "print(f\"x_train.shape : {x_train.shape}\")\n",
        "print(f\"y_train.shape : {y_train.shape}\")\n",
        "print(f\"x_valid.shape : {x_valid.shape}\")\n",
        "print(f\"y_valid.shape : {y_valid.shape}\")"
      ]
    },
    {
      "cell_type": "code",
      "execution_count": null,
      "metadata": {
        "colab": {
          "base_uri": "https://localhost:8080/"
        },
        "id": "dFt4Joa6qPNj",
        "outputId": "67b45152-9aab-4724-efeb-04178c4cf9e0"
      },
      "outputs": [
        {
          "name": "stdout",
          "output_type": "stream",
          "text": [
            "(26592, 300, 8)\n",
            "(6648, 300, 8)\n"
          ]
        }
      ],
      "source": [
        "\"\"\"\n",
        "LSTM의 입력은 (batch_size, time_steps, input_dim)로 3차원으로 구성된다.\n",
        "batch_size - 시퀀스의 개수\n",
        "time_steps - 시퀀스의 시간 차원\n",
        "input_dim - 입력될 feature의 수\n",
        "\"\"\"\n",
        "x_train = x_train.reshape(-1, 300, 8)\n",
        "x_valid = x_valid.reshape(-1, 300, 8)\n",
        "print(x_train.shape) # label 데이터와 동일한 shape을 가지는지 확인\n",
        "print(x_valid.shape)"
      ]
    },
    {
      "attachments": {},
      "cell_type": "markdown",
      "metadata": {
        "id": "xqZoftuAWaZv"
      },
      "source": [
        "#### 1차 학습 시도"
      ]
    },
    {
      "cell_type": "code",
      "execution_count": null,
      "metadata": {
        "colab": {
          "background_save": true,
          "base_uri": "https://localhost:8080/"
        },
        "id": "_6lxRrUmmUN1",
        "outputId": "388989a4-f7a8-4809-93a3-71f4b8532b42"
      },
      "outputs": [
        {
          "name": "stderr",
          "output_type": "stream",
          "text": [
            "WARNING:tensorflow:Layer lstm_6 will not use cuDNN kernels since it doesn't meet the criteria. It will use a generic GPU kernel as fallback when running on GPU.\n"
          ]
        },
        {
          "name": "stdout",
          "output_type": "stream",
          "text": [
            "Epoch 1/30\n",
            "416/416 [==============================] - 297s 709ms/step - loss: 16172.7920 - val_loss: 15551.3682\n",
            "Epoch 2/30\n",
            "416/416 [==============================] - 294s 707ms/step - loss: 13047.8721 - val_loss: 15405.4150\n",
            "Epoch 3/30\n",
            "416/416 [==============================] - 292s 701ms/step - loss: 12910.9541 - val_loss: 15256.5186\n",
            "Epoch 4/30\n",
            "416/416 [==============================] - 292s 701ms/step - loss: 12770.5850 - val_loss: 15104.5459\n",
            "Epoch 5/30\n",
            "416/416 [==============================] - 292s 701ms/step - loss: 12627.9600 - val_loss: 14949.1279\n",
            "Epoch 6/30\n",
            "416/416 [==============================] - 292s 702ms/step - loss: 12481.2246 - val_loss: 14789.4658\n",
            "Epoch 7/30\n",
            "416/416 [==============================] - 294s 708ms/step - loss: 12329.9062 - val_loss: 14624.3223\n",
            "Epoch 8/30\n",
            "416/416 [==============================] - 293s 705ms/step - loss: 12174.0771 - val_loss: 14452.6367\n",
            "Epoch 9/30\n",
            "416/416 [==============================] - 292s 703ms/step - loss: 12010.2695 - val_loss: 14271.3115\n",
            "Epoch 10/30\n",
            "416/416 [==============================] - 293s 704ms/step - loss: 11836.5732 - val_loss: 14075.6377\n",
            "Epoch 11/30\n",
            "416/416 [==============================] - 293s 704ms/step - loss: 11646.2402 - val_loss: 13855.9854\n",
            "Epoch 12/30\n",
            "416/416 [==============================] - 293s 703ms/step - loss: 11426.0156 - val_loss: 13588.6729\n",
            "Epoch 13/30\n",
            "416/416 [==============================] - 293s 704ms/step - loss: 11134.7100 - val_loss: 13183.4658\n",
            "Epoch 14/30\n",
            "416/416 [==============================] - 293s 705ms/step - loss: 8962.6318 - val_loss: 73153.9609\n",
            "Epoch 15/30\n",
            "416/416 [==============================] - 292s 702ms/step - loss: 1033.3059 - val_loss: 15948.1494\n",
            "Epoch 16/30\n",
            "416/416 [==============================] - 295s 709ms/step - loss: 762.3412 - val_loss: 12341.1934\n",
            "Epoch 17/30\n",
            "416/416 [==============================] - 299s 719ms/step - loss: 631.3096 - val_loss: 10039.9824\n",
            "Epoch 18/30\n",
            "416/416 [==============================] - 294s 706ms/step - loss: 510.7581 - val_loss: 8487.8750\n",
            "Epoch 19/30\n",
            "416/416 [==============================] - 292s 703ms/step - loss: 427.3716 - val_loss: 6535.3389\n",
            "Epoch 20/30\n",
            "416/416 [==============================] - 292s 703ms/step - loss: 341.5839 - val_loss: 5588.1318\n",
            "Epoch 21/30\n",
            "416/416 [==============================] - 294s 708ms/step - loss: 290.0333 - val_loss: 4625.7573\n",
            "Epoch 22/30\n",
            "416/416 [==============================] - 293s 704ms/step - loss: 237.7680 - val_loss: 3458.1797\n",
            "Epoch 23/30\n",
            "416/416 [==============================] - 294s 706ms/step - loss: 204.9794 - val_loss: 2498.4490\n",
            "Epoch 24/30\n",
            "416/416 [==============================] - 293s 705ms/step - loss: 181.4230 - val_loss: 1859.0750\n",
            "Epoch 25/30\n",
            "416/416 [==============================] - 293s 705ms/step - loss: 159.3007 - val_loss: 1252.2301\n",
            "Epoch 26/30\n",
            "416/416 [==============================] - 293s 703ms/step - loss: 141.9850 - val_loss: 852.2798\n",
            "Epoch 27/30\n",
            "416/416 [==============================] - 293s 704ms/step - loss: 126.8829 - val_loss: 613.6665\n",
            "Epoch 28/30\n",
            "416/416 [==============================] - 293s 704ms/step - loss: 114.0037 - val_loss: 445.2370\n",
            "Epoch 29/30\n",
            "416/416 [==============================] - 294s 708ms/step - loss: 101.5534 - val_loss: 358.8987\n",
            "Epoch 30/30\n",
            "416/416 [==============================] - 295s 710ms/step - loss: 92.2637 - val_loss: 303.9413\n"
          ]
        }
      ],
      "source": [
        "model = Sequential()\n",
        "model.add(LSTM(10, activation=\"relu\", input_shape=(300,8), recurrent_dropout=0.2))              # 오버피팅을 방지하기 위해 recurrent_dropout을 사용\n",
        "model.add(Dense(1))                                                                             # 회귀문제이기 때문에 최종적인 값은 1개로 출력\n",
        "\n",
        "model.compile(loss=\"mean_squared_error\", optimizer='adam')                                      # 손실함수는 Mean-squered-error, Optimizer는 Adam\n",
        "\n",
        "early_stopping_callback = EarlyStopping(monitor=\"val_loss\", patience=5)                         # 검증 데이터의 정확도가 5번 연속 떨어지는 경우 학습을 멈춘다.\n",
        "model_checkpoint = ModelCheckpoint(filepath='\"/gdrive/MyDrive/임시/data/best_model_weights.h5', # 저장할 경로\n",
        "                                    monitor='val_loss',                                         # 모니터링 기준\n",
        "                                    save_best_only=True)                                        # 모니터링 지표가 가장 좋은 성능을 보인 모델 가중치만 저장\n",
        "callbacks = {\"early_stopping\":early_stopping_callback, \"model_checkpoint\":model_checkpoint}\n",
        "\n",
        "history = model.fit(x_train, y_train, batch_size=64, epochs=30, shuffle=False, validation_data=(x_valid, y_valid), callbacks=callbacks) # 에폭 마다 데이터가 섞이지 않도록 shuffle 옵션을 False로 설정"
      ]
    },
    {
      "cell_type": "code",
      "execution_count": null,
      "metadata": {
        "id": "hkQHCCbGiNrl"
      },
      "outputs": [],
      "source": [
        "model.save('/gdrive/MyDrive/임시/data/best_model_weights.h5') # 모델 가중치 저장"
      ]
    },
    {
      "attachments": {},
      "cell_type": "markdown",
      "metadata": {
        "id": "mXVm5SVV_uCb"
      },
      "source": [
        "LSTM의 유닛을 100인 상태로 시작했을 때 loss가 NaN값으로 나타나 구글링을 통해 처리 방법을 확인한 뒤 4가지의 방법을 찾았고 그 중 LSTM 유닛을 줄이고 dropout을 줄이는 방향으로 다시 학습을 시도해보았다.\n",
        "1. 학습률을 낮추기\n",
        "2. 입력 데이터에 NaN 값이 확인\n",
        "3. Dropout, Batch Normalization 추가 또는 LSTM unit을 줄인다.\n",
        "4. 가중치 초기화"
      ]
    },
    {
      "attachments": {},
      "cell_type": "markdown",
      "metadata": {
        "id": "SB1vSeoH0JNr"
      },
      "source": [
        "#### Loss 검증"
      ]
    },
    {
      "cell_type": "code",
      "execution_count": null,
      "metadata": {
        "colab": {
          "base_uri": "https://localhost:8080/",
          "height": 279
        },
        "id": "ncCo-N5exUBW",
        "outputId": "d2426530-698f-40cb-d8b7-9e4702c8345d"
      },
      "outputs": [
        {
          "data": {
            "image/png": "[encoded data removed]",
            "text/plain": [
              "<Figure size 432x288 with 1 Axes>"
            ]
          },
          "metadata": {
            "needs_background": "light"
          },
          "output_type": "display_data"
        }
      ],
      "source": [
        "y_loss = history.history['loss']                                                # 학습 데이터셋 loss\n",
        "y_valid_loss = history.history['val_loss']                                      # 검증 데이터셋 loss\n",
        "\n",
        "x_len = np.arange(len(y_loss))                                                  # 0부터 y_loss의 길이만큼 1씩 증가하는 array 생성\n",
        "\n",
        "plt.plot(x_len, y_loss, marker='.', c='b', label=\"Train set_loss\")              # 학습 데이터셋 loss 표현(파란색)\n",
        "plt.plot(x_len, y_valid_loss, marker='.', c='r', label=\"Validation set_loss\")   # 검증 데이터셋 loss표현(빨간색)\n",
        "plt.legend(loc=0)                                                               # lable 위치 지정 (0 = best)\n",
        "plt.xlabel('epoch')\n",
        "plt.ylabel('loss')\n",
        "plt.show()"
      ]
    },
    {
      "cell_type": "code",
      "execution_count": null,
      "metadata": {
        "colab": {
          "base_uri": "https://localhost:8080/"
        },
        "id": "nn6KQcvdfmYS",
        "outputId": "ab032e69-2206-4793-9ee9-9158aa6d216d"
      },
      "outputs": [
        {
          "name": "stdout",
          "output_type": "stream",
          "text": [
            " RMSE : 17.43\n"
          ]
        }
      ],
      "source": [
        "print(f\" RMSE : {np.sqrt(history.history['val_loss'][-1]):.2f}\") # 최종 epoch의 validation 데이터셋  "
      ]
    },
    {
      "attachments": {},
      "cell_type": "markdown",
      "metadata": {
        "id": "5gAFgopGAmSc"
      },
      "source": [
        "#### 완성된 모델 테스트"
      ]
    },
    {
      "cell_type": "code",
      "execution_count": null,
      "metadata": {
        "colab": {
          "base_uri": "https://localhost:8080/"
        },
        "id": "WVcD_Vsg0H69",
        "outputId": "8ed8e25b-c73e-40bd-df63-6d6e10e1361b"
      },
      "outputs": [
        {
          "name": "stderr",
          "output_type": "stream",
          "text": [
            "WARNING:tensorflow:Layer lstm_6 will not use cuDNN kernels since it doesn't meet the criteria. It will use a generic GPU kernel as fallback when running on GPU.\n"
          ]
        },
        {
          "name": "stdout",
          "output_type": "stream",
          "text": [
            "1/1 [==============================] - 4s 4s/step\n",
            "Predicted: [[121.51439]]\n"
          ]
        }
      ],
      "source": [
        "model = load_model('/gdrive/MyDrive/임시/data/best_model_weights.h5')\n",
        "\n",
        "test_df = pd.read_xml(\"/gdrive/MyDrive/임시/data/Test_sample.xml\")\n",
        "test_df = test_df[:-1]\n",
        "test_transformed = preprocessor_pipe.transform(test_df) \n",
        "test = test_transformed.reshape(-1,300,8)  \n",
        "preds = model.predict(test)\n",
        "\n",
        "# 예측값 출력\n",
        "print('Predicted:', preds) # Real label : 125.4"
      ]
    },
    {
      "attachments": {},
      "cell_type": "markdown",
      "metadata": {
        "id": "adv5kojfjlfI"
      },
      "source": [
        "Test 값을 넣은 결과를 보려고 모델을 불러 scaling을 하고 reshape를 해서 예측을 시도했지만 훈련에서 사용했던 one-hot encoder에 들어간 카테고리의 수가 달라 입력된 8개의 input_dim보다 작은 크기가 나왔고 test할 xml의 길이가 300개가 아닌 301개로 확인되어 테스트 결과를 보지는 못했다."
      ]
    },
    {
      "attachments": {},
      "cell_type": "markdown",
      "metadata": {
        "id": "CSm3GSKzQu8U"
      },
      "source": [
        "#### 1차 학습 결과\n",
        "30 epoch 중 15 epoch 이상부터 과적합이 의심되긴 했으나 val_loss가 epoch가 진행되며 점점 낮아지는 모습을 확인 할 수 있었다.\n",
        "이후 학습 시에는 모델 성능 향상을 위해 아래와 같은 작업을 후 재학습 할 예정\n",
        "* LSTM의 유닛 증가(모델의 복잡도 상승)\n",
        "* recurrent_dropout 0.3으로 증가\n",
        "* Batch Normalization layer 추가\n",
        "* epoch 증가"
      ]
    },
    {
      "attachments": {},
      "cell_type": "markdown",
      "metadata": {
        "id": "izSTW1AQSt54"
      },
      "source": [
        "#### 2차 학습 시도"
      ]
    },
    {
      "cell_type": "code",
      "execution_count": null,
      "metadata": {
        "colab": {
          "base_uri": "https://localhost:8080/"
        },
        "id": "C3nZ32A5StZM",
        "outputId": "ba422e2d-0fcc-4d4b-81b0-d797ecfdebdb"
      },
      "outputs": [
        {
          "name": "stderr",
          "output_type": "stream",
          "text": [
            "WARNING:tensorflow:Layer lstm will not use cuDNN kernels since it doesn't meet the criteria. It will use a generic GPU kernel as fallback when running on GPU.\n"
          ]
        },
        {
          "name": "stdout",
          "output_type": "stream",
          "text": [
            "Epoch 1/30\n",
            "416/416 [==============================] - 333s 781ms/step - loss: 12808.6289 - val_loss: 14031.3076\n",
            "Epoch 2/30\n",
            "416/416 [==============================] - 321s 772ms/step - loss: 9946.6885 - val_loss: 9951.6172\n",
            "Epoch 3/30\n",
            "416/416 [==============================] - 319s 767ms/step - loss: 6004.8193 - val_loss: 5592.7148\n",
            "Epoch 4/30\n",
            "416/416 [==============================] - 318s 764ms/step - loss: 2693.2642 - val_loss: 2485.1958\n",
            "Epoch 5/30\n",
            "416/416 [==============================] - 318s 764ms/step - loss: 846.6618 - val_loss: 965.0357\n",
            "Epoch 6/30\n",
            "416/416 [==============================] - 319s 766ms/step - loss: 207.4498 - val_loss: 464.4306\n",
            "Epoch 7/30\n",
            "416/416 [==============================] - 318s 764ms/step - loss: 85.1412 - val_loss: 342.8159\n",
            "Epoch 8/30\n",
            "416/416 [==============================] - 316s 760ms/step - loss: 72.9827 - val_loss: 318.0674\n",
            "Epoch 9/30\n",
            "416/416 [==============================] - 316s 760ms/step - loss: 72.2598 - val_loss: 313.7989\n",
            "Epoch 10/30\n",
            "416/416 [==============================] - 317s 763ms/step - loss: 72.1667 - val_loss: 313.2338\n",
            "Epoch 11/30\n",
            "416/416 [==============================] - 316s 759ms/step - loss: 72.1552 - val_loss: 312.8778\n",
            "Epoch 12/30\n",
            "416/416 [==============================] - 315s 758ms/step - loss: 71.9640 - val_loss: 312.2890\n",
            "Epoch 13/30\n",
            "416/416 [==============================] - 314s 756ms/step - loss: 71.9868 - val_loss: 311.8895\n",
            "Epoch 14/30\n",
            "416/416 [==============================] - 316s 759ms/step - loss: 71.6623 - val_loss: 311.0250\n",
            "Epoch 15/30\n",
            "416/416 [==============================] - 315s 757ms/step - loss: 71.7646 - val_loss: 310.4887\n",
            "Epoch 16/30\n",
            "416/416 [==============================] - 314s 755ms/step - loss: 71.6624 - val_loss: 309.6065\n",
            "Epoch 17/30\n",
            "416/416 [==============================] - 312s 750ms/step - loss: 71.6955 - val_loss: 309.2128\n",
            "Epoch 18/30\n",
            "416/416 [==============================] - 315s 756ms/step - loss: 71.5944 - val_loss: 308.6613\n",
            "Epoch 19/30\n",
            "416/416 [==============================] - 316s 760ms/step - loss: 71.5617 - val_loss: 307.8127\n",
            "Epoch 20/30\n",
            "416/416 [==============================] - 314s 755ms/step - loss: 71.5737 - val_loss: 307.0296\n",
            "Epoch 21/30\n",
            "416/416 [==============================] - 314s 754ms/step - loss: 71.4998 - val_loss: 306.7726\n",
            "Epoch 22/30\n",
            "416/416 [==============================] - 314s 754ms/step - loss: 71.4351 - val_loss: 306.1112\n",
            "Epoch 23/30\n",
            "416/416 [==============================] - 314s 756ms/step - loss: 71.3815 - val_loss: 305.6824\n",
            "Epoch 24/30\n",
            "416/416 [==============================] - 315s 757ms/step - loss: 71.4586 - val_loss: 305.0994\n",
            "Epoch 25/30\n",
            "416/416 [==============================] - 315s 757ms/step - loss: 71.3055 - val_loss: 304.5959\n",
            "Epoch 26/30\n",
            "416/416 [==============================] - 314s 755ms/step - loss: 71.2289 - val_loss: 304.1221\n",
            "Epoch 27/30\n",
            "416/416 [==============================] - 314s 755ms/step - loss: 71.1753 - val_loss: 303.6064\n",
            "Epoch 28/30\n",
            "416/416 [==============================] - 314s 756ms/step - loss: 70.9449 - val_loss: 303.5003\n",
            "Epoch 29/30\n",
            "416/416 [==============================] - 314s 755ms/step - loss: 71.0221 - val_loss: 303.1440\n",
            "Epoch 30/30\n",
            "416/416 [==============================] - 314s 755ms/step - loss: 70.8298 - val_loss: 302.8782\n"
          ]
        }
      ],
      "source": [
        "model = Sequential()\n",
        "model.add(LSTM(15, activation=\"relu\", input_shape=(300,8), recurrent_dropout=0.3))                # 오버피팅을 방지하기 위해 recurrent_dropout을 사용\n",
        "model.add(BatchNormalization())                                                                   # 오버피팅을 방지하기 위해 BatchNormalization 추가\n",
        "model.add(Dense(1))                                                                               # 회귀문제이기 때문에 최종적인 값은 1개로 출력\n",
        "\n",
        "model.compile(loss=\"mean_squared_error\", optimizer='adam')                                        # 손실함수는 Mean-squered-error, Optimizer는 Adam\n",
        "\n",
        "early_stopping_callback = EarlyStopping(monitor=\"val_loss\", patience=5)                           # 검증 데이터의 정확도가 5번 연속 떨어지는 경우 학습을 멈춘다.\n",
        "model_checkpoint = ModelCheckpoint(filepath='\"/gdrive/MyDrive/임시/data/best_model_weights_2.h5', # 저장할 경로\n",
        "                                    monitor='val_loss',                                           # 모니터링 기준\n",
        "                                    save_best_only=True)                                          # 모니터링 지표가 가장 좋은 성능을 보인 모델 가중치만 저장\n",
        "callbacks = {\"early_stopping\":early_stopping_callback, \"model_checkpoint\":model_checkpoint}\n",
        "\n",
        "history = model.fit(x_train, y_train, batch_size=64, epochs=30, shuffle=False, validation_data=(x_valid, y_valid), callbacks=callbacks) # 에폭 마다 데이터가 섞이지 않도록 shuffle 옵션을 False로 설정"
      ]
    },
    {
      "cell_type": "code",
      "execution_count": null,
      "metadata": {
        "id": "C50kB3PFX2Sm"
      },
      "outputs": [],
      "source": [
        "model.save('/gdrive/MyDrive/임시/data/best_model_weights_check.h5') # 모델 가중치 저장"
      ]
    },
    {
      "attachments": {},
      "cell_type": "markdown",
      "metadata": {
        "id": "EbduS_89a_j9"
      },
      "source": [
        "#### 2차 학습 결과\n",
        "\n",
        "처음 모델 학습을 시작하자 마자 검증셋 오류가 nan으로 나타나 다시 실행해보니 이번엔 정상적으로 학습이 잘 되었다.\n",
        "학습 시 초기 값의 문제 같은데 자세한 부분은 검색을 통해 어떤 부분 때문에 재학습 시 다른 결과를 보이게 되는지 확인해봐야 할 것 같다.\n",
        "\n",
        "모델 체크포인트도 5회 연속 검증셋의 loss가 떨어질 경우로 세팅을 해놨지만 epoch의 횟수가 많지 않아 2회나 3회 정도로 하는게 좋을 것 같다.\n",
        "\n"
      ]
    },
    {
      "cell_type": "code",
      "execution_count": null,
      "metadata": {
        "colab": {
          "base_uri": "https://localhost:8080/",
          "height": 279
        },
        "id": "WY-MgxQ4Qt-y",
        "outputId": "63898000-bcf6-4306-a360-d96aa5120403"
      },
      "outputs": [
        {
          "data": {
            "image/png": "[encoded data removed]",
            "text/plain": [
              "<Figure size 432x288 with 1 Axes>"
            ]
          },
          "metadata": {
            "needs_background": "light"
          },
          "output_type": "display_data"
        }
      ],
      "source": [
        "y_loss = history.history['loss']                                            # 학습 데이터셋 loss\n",
        "y_valid_loss = history.history['val_loss']                                      # 검증 데이터셋 loss\n",
        "\n",
        "x_len = np.arange(len(y_loss))                                                  # 0부터 y_loss의 길이만큼 1씩 증가하는 array 생성\n",
        "\n",
        "plt.plot(x_len, y_loss, marker='.', c='b', label=\"Train set_loss\")              # 학습 데이터셋 loss 표현(파란색)\n",
        "plt.plot(x_len, y_valid_loss, marker='.', c='r', label=\"Validation set_loss\")   # 검증 데이터셋 loss표현(빨간색)\n",
        "plt.legend(loc=0)                                                               # lable 위치 지정 (0 = best)\n",
        "plt.xlabel('epoch')\n",
        "plt.ylabel('loss')\n",
        "plt.show()"
      ]
    },
    {
      "cell_type": "code",
      "execution_count": null,
      "metadata": {
        "colab": {
          "base_uri": "https://localhost:8080/"
        },
        "id": "qJrgj6Yk8Erv",
        "outputId": "fc2d85dd-d7b7-4229-d8bf-a45bb13bd18d"
      },
      "outputs": [
        {
          "name": "stderr",
          "output_type": "stream",
          "text": [
            "WARNING:tensorflow:Layer lstm will not use cuDNN kernels since it doesn't meet the criteria. It will use a generic GPU kernel as fallback when running on GPU.\n"
          ]
        },
        {
          "name": "stdout",
          "output_type": "stream",
          "text": [
            "1/1 [==============================] - 0s 318ms/step\n",
            "1/1 [==============================] - 0s 89ms/step\n",
            "Predicted A: [[115.7732]]\n",
            "Predicted A: [[115.78097]]\n"
          ]
        }
      ],
      "source": [
        "model = load_model('/gdrive/MyDrive/임시/data/best_model_weights_check.h5')\n",
        "\n",
        "test_df = pd.read_xml(\"/gdrive/MyDrive/임시/data/Test_sample.xml\")\n",
        "test_df_a = test_df[1:]\n",
        "test_df_b = test_df[:-1]\n",
        "test_transformed_a = preprocessor_pipe.transform(test_df_a) \n",
        "test_transformed_b = preprocessor_pipe.transform(test_df_b) \n",
        "test_a = test_transformed_a.reshape(-1,300,8)  \n",
        "test_b = test_transformed_b.reshape(-1,300,8)  \n",
        "preds_a = model.predict(test_a)\n",
        "preds_b = model.predict(test_b)\n",
        "\n",
        "# 예측값 출력\n",
        "print('Predicted A:', preds_a) # Real label : 125.4\n",
        "print('Predicted A:', preds_b) "
      ]
    },
    {
      "attachments": {},
      "cell_type": "markdown",
      "metadata": {
        "id": "RtTKtXgVT-uT"
      },
      "source": [
        "#### 3차 학습"
      ]
    },
    {
      "cell_type": "code",
      "execution_count": null,
      "metadata": {
        "colab": {
          "base_uri": "https://localhost:8080/"
        },
        "id": "SxZvW8xMT96V",
        "outputId": "8b1e7ffc-3826-408d-ad9a-42f33362e4e1"
      },
      "outputs": [
        {
          "name": "stderr",
          "output_type": "stream",
          "text": [
            "WARNING:tensorflow:Layer lstm_6 will not use cuDNN kernels since it doesn't meet the criteria. It will use a generic GPU kernel as fallback when running on GPU.\n"
          ]
        },
        {
          "name": "stdout",
          "output_type": "stream",
          "text": [
            "Epoch 1/50\n",
            "831/831 [==============================] - 270s 295ms/step - loss: 11450.2490 - val_loss: 25990.4160\n",
            "Epoch 2/50\n",
            "831/831 [==============================] - 244s 294ms/step - loss: 4428.4580 - val_loss: 40243.7891\n",
            "Epoch 3/50\n",
            "831/831 [==============================] - 244s 294ms/step - loss: 546.3814 - val_loss: 11754.5840\n",
            "Epoch 4/50\n",
            "831/831 [==============================] - 244s 293ms/step - loss: 80.0668 - val_loss: 21296.0117\n",
            "Epoch 5/50\n",
            "831/831 [==============================] - 244s 294ms/step - loss: 72.5684 - val_loss: 13490.2812\n",
            "Epoch 6/50\n",
            "831/831 [==============================] - 244s 294ms/step - loss: 72.1295 - val_loss: 15314.0137\n",
            "Epoch 7/50\n",
            "831/831 [==============================] - 245s 294ms/step - loss: 72.2799 - val_loss: 12784.5088\n",
            "Epoch 8/50\n",
            "831/831 [==============================] - 244s 294ms/step - loss: 72.0319 - val_loss: 15992.4707\n"
          ]
        }
      ],
      "source": [
        "model = Sequential()\n",
        "model.add(LSTM(15, activation=\"relu\", input_shape=(300,8), recurrent_dropout=0.3))                # 오버피팅을 방지하기 위해 recurrent_dropout을 사용\n",
        "model.add(BatchNormalization())                                                                   # 오버피팅을 방지하기 위해 BatchNormalization 추가\n",
        "model.add(Dense(1))                                                                               # 회귀문제이기 때문에 최종적인 값은 1개로 출력\n",
        "\n",
        "model.compile(loss=\"mean_squared_error\", optimizer='adam')                                        # 손실함수는 Mean-squered-error, Optimizer는 Adam\n",
        "\n",
        "early_stopping_callback = EarlyStopping(monitor=\"val_loss\", patience=5)                           # 검증 데이터의 정확도가 5번 연속 떨어지는 경우 학습을 멈춘다.\n",
        "model_checkpoint = ModelCheckpoint(filepath='\"/gdrive/MyDrive/임시/data/best_model_weights_3.h5', # 저장할 경로\n",
        "                                    monitor='val_loss',                                           # 모니터링 기준\n",
        "                                    save_best_only=True)                                          # 모니터링 지표가 가장 좋은 성능을 보인 모델 가중치만 저장\n",
        "callbacks = {\"early_stopping\":early_stopping_callback, \"model_checkpoint\":model_checkpoint}\n",
        "\n",
        "history = model.fit(x_train, y_train, batch_size=32, epochs=50, shuffle=False, validation_data=(x_valid, y_valid), callbacks=callbacks) # 에폭 마다 데이터가 섞이지 않도록 shuffle 옵션을 False로 설정"
      ]
    },
    {
      "cell_type": "code",
      "execution_count": null,
      "metadata": {
        "colab": {
          "base_uri": "https://localhost:8080/",
          "height": 279
        },
        "id": "XliDpcjhUW5c",
        "outputId": "896ba694-d3c5-4e7c-f0c9-ceee641acdd8"
      },
      "outputs": [
        {
          "data": {
            "image/png": "[encoded data removed]",
            "text/plain": [
              "<Figure size 432x288 with 1 Axes>"
            ]
          },
          "metadata": {
            "needs_background": "light"
          },
          "output_type": "display_data"
        }
      ],
      "source": [
        "y_loss = history.history['loss']                                            # 학습 데이터셋 loss\n",
        "y_valid_loss = history.history['val_loss']                                      # 검증 데이터셋 loss\n",
        "\n",
        "x_len = np.arange(len(y_loss))                                                  # 0부터 y_loss의 길이만큼 1씩 증가하는 array 생성\n",
        "\n",
        "plt.plot(x_len, y_loss, marker='.', c='b', label=\"Train set_loss\")              # 학습 데이터셋 loss 표현(파란색)\n",
        "plt.plot(x_len, y_valid_loss, marker='.', c='r', label=\"Validation set_loss\")   # 검증 데이터셋 loss표현(빨간색)\n",
        "plt.legend(loc=0)                                                               # lable 위치 지정 (0 = best)\n",
        "plt.xlabel('epoch')\n",
        "plt.ylabel('loss')\n",
        "plt.show()"
      ]
    },
    {
      "cell_type": "code",
      "execution_count": null,
      "metadata": {
        "id": "CZ5t9TpCUX_J"
      },
      "outputs": [],
      "source": [
        "model = load_model('/gdrive/MyDrive/임시/data/best_model_weights_check_3.h5')\n",
        "\n",
        "test_df = pd.read_xml(\"/gdrive/MyDrive/임시/data/Test_sample.xml\")\n",
        "test_df= test_df[1:]\n",
        "test_transformed = preprocessor_pipe.transform(test_df) \n",
        "test = test_transformed.reshape(-1,300,8)  \n",
        "preds = model.predict(test_a)\n",
        "\n",
        "# 예측값 출력\n",
        "print('Predicted A:', preds) # Real label : 125.4"
      ]
    }
  ],
  "metadata": {
    "accelerator": "GPU",
    "colab": {
      "machine_shape": "hm",
      "provenance": []
    },
    "gpuClass": "standard",
    "kernelspec": {
      "display_name": "Python 3",
      "name": "python3"
    },
    "language_info": {
      "name": "python"
    }
  },
  "nbformat": 4,
  "nbformat_minor": 0
}
